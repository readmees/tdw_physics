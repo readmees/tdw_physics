{
 "cells": [
  {
   "cell_type": "code",
   "execution_count": 3,
   "metadata": {},
   "outputs": [],
   "source": [
    "from tdw.controller import Controller\n",
    "from tdw.tdw_utils import TDWUtils\n",
    "from tdw.add_ons.third_person_camera import ThirdPersonCamera\n",
    "from typing import Dict\n",
    "from tdw.add_ons.collision_manager import CollisionManager\n",
    "from tdw.add_ons.object_manager import ObjectManager\n",
    "\n",
    "# Added for video\n",
    "from tdw.add_ons.image_capture import ImageCapture\n",
    "from tdw.backend.paths import EXAMPLE_CONTROLLER_OUTPUT_PATH\n",
    "from os import chdir, system\n",
    "from subprocess import call\n",
    "import shutil\n",
    "\n",
    "# Added for collisions\n",
    "import random\n",
    "import numpy as np\n",
    "\n",
    "# From &tdw_physics\n",
    "from typing import List, Dict\n",
    "from tdw.librarian import ModelLibrarian\n",
    "from typing import Dict\n",
    "from helpers import ObjectInfo, get_random_avatar_position"
   ]
  },
  {
   "cell_type": "code",
   "execution_count": 11,
   "metadata": {},
   "outputs": [],
   "source": [
    "lib = ModelLibrarian('models_core.json')\n",
    "records = {record.name:i for i, record in enumerate(lib.records)}"
   ]
  },
  {
   "cell_type": "code",
   "execution_count": 31,
   "metadata": {},
   "outputs": [
    {
     "data": {
      "text/plain": [
       "{'name': '004_rose_pink',\n",
       " 'urls': {'Darwin': 'https://tdw-private.s3.amazonaws.com/models/osx/2018-2019.1/004_rose_pink',\n",
       "  'Linux': 'https://tdw-private.s3.amazonaws.com/models/linux/2018-2019.1/004_rose_pink',\n",
       "  'Windows': 'https://tdw-private.s3.amazonaws.com/models/windows/2018-2019.1/004_rose_pink'},\n",
       " 'wnid': 'n11669921',\n",
       " 'wcategory': 'flower',\n",
       " 'scale_factor': 1.0,\n",
       " 'do_not_use': False,\n",
       " 'do_not_use_reason': '',\n",
       " 'flex': True,\n",
       " 'substructure': [{'materials': ['003-004_rose_bush_pink'],\n",
       "   'name': '004_rose_pink'}],\n",
       " 'bounds': {'back': {'x': -5.960464e-08, 'y': 0.5705476, 'z': -0.3926587},\n",
       "  'bottom': {'x': -5.960464e-08, 'y': 0, 'z': -2.980232e-08},\n",
       "  'center': {'x': -5.960464e-08, 'y': 0.5705476, 'z': -2.980232e-08},\n",
       "  'front': {'x': -5.960464e-08, 'y': 0.5705476, 'z': 0.3926587},\n",
       "  'left': {'x': -0.4108386, 'y': 0.5705476, 'z': -2.980232e-08},\n",
       "  'right': {'x': 0.4108385, 'y': 0.5705476, 'z': -2.980232e-08},\n",
       "  'top': {'x': -5.960464e-08, 'y': 1.141095, 'z': -2.980232e-08}},\n",
       " 'canonical_rotation': {'x': 0, 'y': 0.0, 'z': 0},\n",
       " 'physics_quality': -1,\n",
       " 'asset_bundle_sizes': {'Darwin': 29506470,\n",
       "  'Linux': 29681977,\n",
       "  'Windows': 29368489},\n",
       " 'composite_object': False,\n",
       " 'volume': 0.11869753152132034,\n",
       " 'container_shapes': [],\n",
       " 'affordance_points': []}"
      ]
     },
     "execution_count": 31,
     "metadata": {},
     "output_type": "execute_result"
    }
   ],
   "source": [
    "lib = ModelLibrarian('models_full.json')\n",
    "lib.records[0].__dict__"
   ]
  },
  {
   "cell_type": "code",
   "execution_count": 50,
   "metadata": {},
   "outputs": [
    {
     "data": {
      "text/plain": [
       "17"
      ]
     },
     "execution_count": 50,
     "metadata": {},
     "output_type": "execute_result"
    }
   ],
   "source": [
    "len(lib.records[2049].__dict__.keys())\n",
    "len(lib.records[0].__dict__.keys())\n"
   ]
  },
  {
   "cell_type": "code",
   "execution_count": null,
   "metadata": {},
   "outputs": [],
   "source": [
    "lib.records"
   ]
  },
  {
   "cell_type": "code",
   "execution_count": 52,
   "metadata": {},
   "outputs": [
    {
     "name": "stdout",
     "output_type": "stream",
     "text": [
      "bowl\n",
      "cone\n",
      "cube\n",
      "cylinder\n",
      "dumbbell\n",
      "octahedron\n",
      "pentagon\n",
      "pipe\n",
      "platonic\n",
      "pyramid\n",
      "sphere\n",
      "torus\n",
      "triangular_prism\n"
     ]
    },
    {
     "ename": "",
     "evalue": "",
     "output_type": "error",
     "traceback": [
      "\u001b[1;31mThe Kernel crashed while executing code in the the current cell or a previous cell. Please review the code in the cell(s) to identify a possible cause of the failure. Click <a href='https://aka.ms/vscodeJupyterKernelCrash'>here</a> for more info. View Jupyter <a href='command:jupyter.viewOutput'>log</a> for further details."
     ]
    }
   ],
   "source": [
    "lib = ModelLibrarian('models_flex.json')\n",
    "lib.records[0].__dict__\n",
    "for record in lib.records:\n",
    "    if record.flex == True:\n",
    "        print(record.name)\n",
    "        "
   ]
  },
  {
   "cell_type": "code",
   "execution_count": 21,
   "metadata": {},
   "outputs": [
    {
     "data": {
      "text/plain": [
       "'034_vray'"
      ]
     },
     "execution_count": 21,
     "metadata": {},
     "output_type": "execute_result"
    }
   ],
   "source": [
    "lib.records[0].name"
   ]
  },
  {
   "cell_type": "code",
   "execution_count": 22,
   "metadata": {},
   "outputs": [
    {
     "name": "stdout",
     "output_type": "stream",
     "text": [
      "445\n"
     ]
    }
   ],
   "source": [
    "print(records['rh10'])"
   ]
  },
  {
   "cell_type": "code",
   "execution_count": 23,
   "metadata": {},
   "outputs": [],
   "source": [
    "records = {record.name:record for record in lib.records}"
   ]
  },
  {
   "cell_type": "code",
   "execution_count": 24,
   "metadata": {},
   "outputs": [
    {
     "data": {
      "text/plain": [
       "'rh10'"
      ]
     },
     "execution_count": 24,
     "metadata": {},
     "output_type": "execute_result"
    }
   ],
   "source": [
    "records['rh10'].name"
   ]
  },
  {
   "attachments": {},
   "cell_type": "markdown",
   "metadata": {},
   "source": []
  },
  {
   "cell_type": "code",
   "execution_count": null,
   "metadata": {},
   "outputs": [],
   "source": []
  },
  {
   "cell_type": "code",
   "execution_count": null,
   "metadata": {},
   "outputs": [],
   "source": [
    "x = 5"
   ]
  },
  {
   "cell_type": "code",
   "execution_count": null,
   "metadata": {},
   "outputs": [],
   "source": [
    "x = 6 if True == False"
   ]
  },
  {
   "cell_type": "code",
   "execution_count": null,
   "metadata": {},
   "outputs": [],
   "source": [
    "print(x)"
   ]
  },
  {
   "cell_type": "code",
   "execution_count": null,
   "metadata": {},
   "outputs": [],
   "source": []
  }
 ],
 "metadata": {
  "kernelspec": {
   "display_name": "TDW_tutorial",
   "language": "python",
   "name": "python3"
  },
  "language_info": {
   "codemirror_mode": {
    "name": "ipython",
    "version": 3
   },
   "file_extension": ".py",
   "mimetype": "text/x-python",
   "name": "python",
   "nbconvert_exporter": "python",
   "pygments_lexer": "ipython3",
   "version": "3.9.16"
  },
  "orig_nbformat": 4
 },
 "nbformat": 4,
 "nbformat_minor": 2
}

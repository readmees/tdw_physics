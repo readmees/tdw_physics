{
 "cells": [
  {
   "cell_type": "code",
   "execution_count": 1,
   "metadata": {},
   "outputs": [],
   "source": [
    "from tdw.controller import Controller\n",
    "from tdw.tdw_utils import TDWUtils\n",
    "from tdw.add_ons.third_person_camera import ThirdPersonCamera\n",
    "from typing import Dict\n",
    "from tdw.add_ons.collision_manager import CollisionManager\n",
    "from tdw.add_ons.object_manager import ObjectManager\n",
    "\n",
    "# Added for video\n",
    "from tdw.add_ons.image_capture import ImageCapture\n",
    "from tdw.backend.paths import EXAMPLE_CONTROLLER_OUTPUT_PATH\n",
    "from os import chdir, system\n",
    "from subprocess import call\n",
    "import shutil\n",
    "\n",
    "# Added for collisions\n",
    "import random\n",
    "import numpy as np\n",
    "\n",
    "# From &tdw_physics\n",
    "from typing import List, Dict\n",
    "from tdw.librarian import ModelLibrarian\n",
    "from typing import Dict\n",
    "from helpers import ObjectInfo, get_random_avatar_position"
   ]
  },
  {
   "cell_type": "code",
   "execution_count": 2,
   "metadata": {},
   "outputs": [],
   "source": [
    "lib = ModelLibrarian('models_core.json')\n",
    "records = {record.name:i for i, record in enumerate(lib.records)}"
   ]
  },
  {
   "cell_type": "code",
   "execution_count": 8,
   "metadata": {},
   "outputs": [
    {
     "name": "stdout",
     "output_type": "stream",
     "text": [
      "\"amphora_jar_vase\"\n",
      "\"apple\"\n",
      "\"b03_burger\"\n",
      "\"b04_banana\"\n",
      "\"b04_orange_00\"\n",
      "\"golf\"\n",
      "\"hexagonal_toy\"\n",
      "\"jug01\"\n",
      "\"moet_chandon_bottle_vray\"\n",
      "\"orange\"\n",
      "\"star_wood_block\"\n"
     ]
    }
   ],
   "source": [
    "OBJECTS = [\"fanta_orange_can_12_fl_oz_vray\",\n",
    "               \"hexagonal_toy\",\n",
    "               \"b03_sphere_chocolate\",\n",
    "               \"coca-cola_can_001\",\n",
    "               \"b05_baseballnew_v03_12\",\n",
    "               \"b06_green_new\",\n",
    "               \"star_wood_block\",\n",
    "               \"amphora_jar_vase\",\n",
    "               \"b03_burger\",\n",
    "               \"golf\",\n",
    "               \"dice\",\n",
    "               \"apple\",\n",
    "               \"wine_bottle\",\n",
    "               \"jug01\",\n",
    "               \"b03_723329_croissant\",\n",
    "               \"moet_chandon_bottle_vray\",\n",
    "               \"b04_banana\",\n",
    "               \"b04_orange_00\",\n",
    "               \"orange\",\n",
    "               \"vm_v2_015\",\n",
    "               \"b03_dice\",\n",
    "               \"bread_02\",\n",
    "               \"bread_01\"]\n",
    "for record in lib.records:\n",
    "    if record.name in OBJECTS:\n",
    "        print('\"'+record.name+ '\"')"
   ]
  },
  {
   "cell_type": "code",
   "execution_count": 13,
   "metadata": {},
   "outputs": [
    {
     "name": "stdout",
     "output_type": "stream",
     "text": [
      "dict_keys(['name', 'urls', 'wnid', 'wcategory', 'scale_factor', 'do_not_use', 'do_not_use_reason', 'flex', 'substructure', 'bounds', 'canonical_rotation', 'physics_quality', 'asset_bundle_sizes', 'composite_object', 'volume', 'container_shapes', 'affordance_points'])\n"
     ]
    },
    {
     "data": {
      "text/plain": [
       "{'back': {'x': 1.490116e-07, 'y': 0.4671669, 'z': -0.2698637},\n",
       " 'bottom': {'x': 1.490116e-07, 'y': -5.960464e-08, 'z': 0},\n",
       " 'center': {'x': 1.490116e-07, 'y': 0.4671669, 'z': 0},\n",
       " 'front': {'x': 1.490116e-07, 'y': 0.467167, 'z': 0.2698637},\n",
       " 'left': {'x': -0.2926708, 'y': 0.4671669, 'z': 0},\n",
       " 'right': {'x': 0.2926711, 'y': 0.4671669, 'z': 0},\n",
       " 'top': {'x': 1.490116e-07, 'y': 0.9343339, 'z': 0}}"
      ]
     },
     "execution_count": 13,
     "metadata": {},
     "output_type": "execute_result"
    },
    {
     "ename": "",
     "evalue": "",
     "output_type": "error",
     "traceback": [
      "\u001b[1;31mThe Kernel crashed while executing code in the the current cell or a previous cell. Please review the code in the cell(s) to identify a possible cause of the failure. Click <a href='https://aka.ms/vscodeJupyterKernelCrash'>here</a> for more info. View Jupyter <a href='command:jupyter.viewOutput'>log</a> for further details."
     ]
    }
   ],
   "source": [
    "print(lib.records[120].__dict__.keys())\n",
    "lib.records[120].__dict__['bounds']"
   ]
  },
  {
   "attachments": {},
   "cell_type": "markdown",
   "metadata": {},
   "source": []
  },
  {
   "cell_type": "code",
   "execution_count": 50,
   "metadata": {},
   "outputs": [
    {
     "data": {
      "text/plain": [
       "17"
      ]
     },
     "execution_count": 50,
     "metadata": {},
     "output_type": "execute_result"
    }
   ],
   "source": [
    "len(lib.records[2049].__dict__.keys())\n",
    "len(lib.records[0].__dict__.keys())\n"
   ]
  },
  {
   "cell_type": "code",
   "execution_count": null,
   "metadata": {},
   "outputs": [],
   "source": [
    "lib.records"
   ]
  },
  {
   "cell_type": "code",
   "execution_count": 52,
   "metadata": {},
   "outputs": [
    {
     "name": "stdout",
     "output_type": "stream",
     "text": [
      "bowl\n",
      "cone\n",
      "cube\n",
      "cylinder\n",
      "dumbbell\n",
      "octahedron\n",
      "pentagon\n",
      "pipe\n",
      "platonic\n",
      "pyramid\n",
      "sphere\n",
      "torus\n",
      "triangular_prism\n"
     ]
    },
    {
     "ename": "",
     "evalue": "",
     "output_type": "error",
     "traceback": [
      "\u001b[1;31mThe Kernel crashed while executing code in the the current cell or a previous cell. Please review the code in the cell(s) to identify a possible cause of the failure. Click <a href='https://aka.ms/vscodeJupyterKernelCrash'>here</a> for more info. View Jupyter <a href='command:jupyter.viewOutput'>log</a> for further details."
     ]
    }
   ],
   "source": [
    "lib = ModelLibrarian('models_flex.json')\n",
    "lib.records[0].__dict__\n",
    "for record in lib.records:\n",
    "    if record.flex == True:\n",
    "        print(record.name)\n",
    "        "
   ]
  },
  {
   "cell_type": "code",
   "execution_count": 21,
   "metadata": {},
   "outputs": [
    {
     "data": {
      "text/plain": [
       "'034_vray'"
      ]
     },
     "execution_count": 21,
     "metadata": {},
     "output_type": "execute_result"
    }
   ],
   "source": [
    "lib.records[0].name"
   ]
  },
  {
   "cell_type": "code",
   "execution_count": 22,
   "metadata": {},
   "outputs": [
    {
     "name": "stdout",
     "output_type": "stream",
     "text": [
      "445\n"
     ]
    }
   ],
   "source": [
    "print(records['rh10'])"
   ]
  },
  {
   "cell_type": "code",
   "execution_count": 23,
   "metadata": {},
   "outputs": [],
   "source": [
    "records = {record.name:record for record in lib.records}"
   ]
  },
  {
   "cell_type": "code",
   "execution_count": 24,
   "metadata": {},
   "outputs": [
    {
     "data": {
      "text/plain": [
       "'rh10'"
      ]
     },
     "execution_count": 24,
     "metadata": {},
     "output_type": "execute_result"
    }
   ],
   "source": [
    "records['rh10'].name"
   ]
  },
  {
   "attachments": {},
   "cell_type": "markdown",
   "metadata": {},
   "source": []
  },
  {
   "cell_type": "code",
   "execution_count": null,
   "metadata": {},
   "outputs": [],
   "source": []
  },
  {
   "cell_type": "code",
   "execution_count": null,
   "metadata": {},
   "outputs": [],
   "source": [
    "x = 5"
   ]
  },
  {
   "cell_type": "code",
   "execution_count": null,
   "metadata": {},
   "outputs": [],
   "source": [
    "x = 6 if True == False"
   ]
  },
  {
   "cell_type": "code",
   "execution_count": null,
   "metadata": {},
   "outputs": [],
   "source": [
    "print(x)"
   ]
  },
  {
   "cell_type": "code",
   "execution_count": null,
   "metadata": {},
   "outputs": [],
   "source": []
  }
 ],
 "metadata": {
  "kernelspec": {
   "display_name": "TDW_tutorial",
   "language": "python",
   "name": "python3"
  },
  "language_info": {
   "codemirror_mode": {
    "name": "ipython",
    "version": 3
   },
   "file_extension": ".py",
   "mimetype": "text/x-python",
   "name": "python",
   "nbconvert_exporter": "python",
   "pygments_lexer": "ipython3",
   "version": "3.9.16"
  },
  "orig_nbformat": 4
 },
 "nbformat": 4,
 "nbformat_minor": 2
}

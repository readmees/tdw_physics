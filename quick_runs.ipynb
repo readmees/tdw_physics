{
 "cells": [
  {
   "cell_type": "code",
   "execution_count": 3,
   "metadata": {},
   "outputs": [],
   "source": [
    "from tdw.controller import Controller\n",
    "from tdw.tdw_utils import TDWUtils\n",
    "from tdw.add_ons.third_person_camera import ThirdPersonCamera\n",
    "from typing import Dict\n",
    "from tdw.add_ons.collision_manager import CollisionManager\n",
    "from tdw.add_ons.object_manager import ObjectManager\n",
    "\n",
    "# Added for video\n",
    "from tdw.add_ons.image_capture import ImageCapture\n",
    "from tdw.backend.paths import EXAMPLE_CONTROLLER_OUTPUT_PATH\n",
    "from os import chdir, system\n",
    "from subprocess import call\n",
    "import shutil\n",
    "\n",
    "# Added for collisions\n",
    "import random\n",
    "import numpy as np\n",
    "\n",
    "# From &tdw_physics\n",
    "from typing import List, Dict\n",
    "from tdw.librarian import ModelLibrarian\n",
    "from typing import Dict\n",
    "from helpers import ObjectInfo, get_random_avatar_position"
   ]
  },
  {
   "cell_type": "code",
   "execution_count": 11,
   "metadata": {},
   "outputs": [],
   "source": [
    "lib = ModelLibrarian('models_core.json')\n",
    "records = {record.name:i for i, record in enumerate(lib.records)}"
   ]
  },
  {
   "cell_type": "code",
   "execution_count": null,
   "metadata": {},
   "outputs": [],
   "source": [
    "lib = ModelLibrarian('models_full.json')\n"
   ]
  },
  {
   "cell_type": "code",
   "execution_count": 12,
   "metadata": {},
   "outputs": [
    {
     "data": {
      "text/plain": [
       "'034_vray'"
      ]
     },
     "execution_count": 12,
     "metadata": {},
     "output_type": "execute_result"
    }
   ],
   "source": [
    "lib.records[0].name"
   ]
  },
  {
   "cell_type": "code",
   "execution_count": 7,
   "metadata": {},
   "outputs": [
    {
     "name": "stdout",
     "output_type": "stream",
     "text": [
      "2049\n"
     ]
    }
   ],
   "source": [
    "print(records['rh10'])"
   ]
  },
  {
   "cell_type": "code",
   "execution_count": 2,
   "metadata": {},
   "outputs": [
    {
     "ename": "NameError",
     "evalue": "name 'lib' is not defined",
     "output_type": "error",
     "traceback": [
      "\u001b[0;31m---------------------------------------------------------------------------\u001b[0m",
      "\u001b[0;31mNameError\u001b[0m                                 Traceback (most recent call last)",
      "Cell \u001b[0;32mIn[2], line 1\u001b[0m\n\u001b[0;32m----> 1\u001b[0m records \u001b[39m=\u001b[39m {record\u001b[39m.\u001b[39mname:record \u001b[39mfor\u001b[39;00m record \u001b[39min\u001b[39;00m lib\u001b[39m.\u001b[39mrecords}\n",
      "\u001b[0;31mNameError\u001b[0m: name 'lib' is not defined"
     ]
    }
   ],
   "source": [
    "records = {record.name:record for record in lib.records}"
   ]
  },
  {
   "cell_type": "code",
   "execution_count": 9,
   "metadata": {},
   "outputs": [
    {
     "data": {
      "text/plain": [
       "'rh10'"
      ]
     },
     "execution_count": 9,
     "metadata": {},
     "output_type": "execute_result"
    },
    {
     "ename": "",
     "evalue": "",
     "output_type": "error",
     "traceback": [
      "\u001b[1;31mThe Kernel crashed while executing code in the the current cell or a previous cell. Please review the code in the cell(s) to identify a possible cause of the failure. Click <a href='https://aka.ms/vscodeJupyterKernelCrash'>here</a> for more info. View Jupyter <a href='command:jupyter.viewOutput'>log</a> for further details."
     ]
    }
   ],
   "source": [
    "records['rh10'].name"
   ]
  }
 ],
 "metadata": {
  "kernelspec": {
   "display_name": "TDW_tutorial",
   "language": "python",
   "name": "python3"
  },
  "language_info": {
   "codemirror_mode": {
    "name": "ipython",
    "version": 3
   },
   "file_extension": ".py",
   "mimetype": "text/x-python",
   "name": "python",
   "nbconvert_exporter": "python",
   "pygments_lexer": "ipython3",
   "version": "3.9.16"
  },
  "orig_nbformat": 4
 },
 "nbformat": 4,
 "nbformat_minor": 2
}

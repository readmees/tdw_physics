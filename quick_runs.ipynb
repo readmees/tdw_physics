{
 "cells": [
  {
   "cell_type": "code",
   "execution_count": 1,
   "metadata": {},
   "outputs": [],
   "source": [
    "from tdw.controller import Controller\n",
    "from tdw.tdw_utils import TDWUtils\n",
    "from tdw.add_ons.third_person_camera import ThirdPersonCamera\n",
    "from typing import Dict\n",
    "from tdw.add_ons.collision_manager import CollisionManager\n",
    "from tdw.add_ons.object_manager import ObjectManager\n",
    "\n",
    "# Added for video\n",
    "from tdw.add_ons.image_capture import ImageCapture\n",
    "from tdw.backend.paths import EXAMPLE_CONTROLLER_OUTPUT_PATH\n",
    "from os import chdir, system\n",
    "from subprocess import call\n",
    "import shutil\n",
    "\n",
    "# Added for collisions\n",
    "import random\n",
    "import numpy as np\n",
    "\n",
    "# From &tdw_physics\n",
    "from typing import List, Dict\n",
    "from tdw.librarian import ModelLibrarian\n",
    "from typing import Dict\n",
    "from controllers.helpers.helpers import ObjectInfo, get_random_avatar_position\n",
    "from controllers.helpers.objects import *"
   ]
  },
  {
   "cell_type": "code",
   "execution_count": 137,
   "metadata": {},
   "outputs": [
    {
     "name": "stdout",
     "output_type": "stream",
     "text": [
      "97\n"
     ]
    },
    {
     "data": {
      "text/html": [
       "<div>\n",
       "<style scoped>\n",
       "    .dataframe tbody tr th:only-of-type {\n",
       "        vertical-align: middle;\n",
       "    }\n",
       "\n",
       "    .dataframe tbody tr th {\n",
       "        vertical-align: top;\n",
       "    }\n",
       "\n",
       "    .dataframe thead th {\n",
       "        text-align: right;\n",
       "    }\n",
       "</style>\n",
       "<table border=\"1\" class=\"dataframe\">\n",
       "  <thead>\n",
       "    <tr style=\"text-align: right;\">\n",
       "      <th></th>\n",
       "      <th>names</th>\n",
       "      <th>scales</th>\n",
       "      <th>volume</th>\n",
       "    </tr>\n",
       "  </thead>\n",
       "  <tbody>\n",
       "    <tr>\n",
       "      <th>0</th>\n",
       "      <td>aaa_battery</td>\n",
       "      <td>20.216037</td>\n",
       "      <td>0.000005</td>\n",
       "    </tr>\n",
       "    <tr>\n",
       "      <th>1</th>\n",
       "      <td>chocolate_bar001</td>\n",
       "      <td>19.654760</td>\n",
       "      <td>0.000008</td>\n",
       "    </tr>\n",
       "    <tr>\n",
       "      <th>2</th>\n",
       "      <td>b03_pen_01_001</td>\n",
       "      <td>9.177869</td>\n",
       "      <td>0.000012</td>\n",
       "    </tr>\n",
       "    <tr>\n",
       "      <th>3</th>\n",
       "      <td>b03_pen</td>\n",
       "      <td>6.405872</td>\n",
       "      <td>0.000018</td>\n",
       "    </tr>\n",
       "    <tr>\n",
       "      <th>4</th>\n",
       "      <td>9v_battery</td>\n",
       "      <td>19.053041</td>\n",
       "      <td>0.000025</td>\n",
       "    </tr>\n",
       "    <tr>\n",
       "      <th>...</th>\n",
       "      <td>...</td>\n",
       "      <td>...</td>\n",
       "      <td>...</td>\n",
       "    </tr>\n",
       "    <tr>\n",
       "      <th>92</th>\n",
       "      <td>699264_shoppingcart_2013</td>\n",
       "      <td>1.004450</td>\n",
       "      <td>0.667224</td>\n",
       "    </tr>\n",
       "    <tr>\n",
       "      <th>93</th>\n",
       "      <td>b03_shopping_cart_walmart</td>\n",
       "      <td>0.845367</td>\n",
       "      <td>0.784615</td>\n",
       "    </tr>\n",
       "    <tr>\n",
       "      <th>94</th>\n",
       "      <td>b03_ka90ivi20r_2013__vray</td>\n",
       "      <td>0.565877</td>\n",
       "      <td>1.109487</td>\n",
       "    </tr>\n",
       "    <tr>\n",
       "      <th>95</th>\n",
       "      <td>balance_double_doghouse</td>\n",
       "      <td>0.845467</td>\n",
       "      <td>1.116060</td>\n",
       "    </tr>\n",
       "    <tr>\n",
       "      <th>96</th>\n",
       "      <td>b03_shopping_cart</td>\n",
       "      <td>0.555916</td>\n",
       "      <td>4.172387</td>\n",
       "    </tr>\n",
       "  </tbody>\n",
       "</table>\n",
       "<p>97 rows × 3 columns</p>\n",
       "</div>"
      ],
      "text/plain": [
       "                        names     scales    volume\n",
       "0                 aaa_battery  20.216037  0.000005\n",
       "1            chocolate_bar001  19.654760  0.000008\n",
       "2              b03_pen_01_001   9.177869  0.000012\n",
       "3                     b03_pen   6.405872  0.000018\n",
       "4                  9v_battery  19.053041  0.000025\n",
       "..                        ...        ...       ...\n",
       "92   699264_shoppingcart_2013   1.004450  0.667224\n",
       "93  b03_shopping_cart_walmart   0.845367  0.784615\n",
       "94  b03_ka90ivi20r_2013__vray   0.565877  1.109487\n",
       "95    balance_double_doghouse   0.845467  1.116060\n",
       "96          b03_shopping_cart   0.555916  4.172387\n",
       "\n",
       "[97 rows x 3 columns]"
      ]
     },
     "execution_count": 137,
     "metadata": {},
     "output_type": "execute_result"
    }
   ],
   "source": [
    "''' Do not remove '''\n",
    "import matplotlib.pyplot as plt\n",
    "import numpy as np\n",
    "import pandas as pd\n",
    "lib = ModelLibrarian('models_core.json')\n",
    "# Concatenate the ALL lists\n",
    "objects = CONTAINERS + CONTAINED + OCCLUDERS + OCCLUDERS_SEE_THROUGH + OCCLUDED +\\\n",
    "                ROLLING_FLIPPED + BALLS\n",
    "\n",
    "# Remove duplicates, while preserving order\n",
    "# See https://stackoverflow.com/questions/480214/how-do-i-remove-duplicates-from-a-list-while-preserving-order\n",
    "objects = list(dict.fromkeys(objects))\n",
    "print(len(objects))\n",
    "df = pd.DataFrame(\n",
    "{'names': [record.name for record in lib.records if record.name in objects],\n",
    "    'scales' :[TDWUtils.get_unit_scale(record) for record in lib.records if record.name in objects],\n",
    "'volume' : [np.prod(TDWUtils.get_bounds_extents(record.bounds)) for record in lib.records if record.name in objects],}\n",
    ")\n",
    "df = df.sort_values(by=\"volume\", ignore_index=True)\n",
    "df"
   ]
  },
  {
   "cell_type": "code",
   "execution_count": 214,
   "metadata": {},
   "outputs": [
    {
     "name": "stdout",
     "output_type": "stream",
     "text": [
      "15.000049465689893 56.723865354645326\n"
     ]
    },
    {
     "data": {
      "image/png": "[encoded data removed]",
      "text/plain": [
       "<Figure size 640x480 with 1 Axes>"
      ]
     },
     "metadata": {},
     "output_type": "display_data"
    }
   ],
   "source": [
    "i, j = 0, 97\n",
    "magnitude = df['volume'][i:j]*10+15\n",
    "print(np.min(magnitude), np.max(magnitude))\n",
    "plt.plot(df['volume'][i:j], magnitude,'.', label='unit_scale')\n",
    "\n",
    "plt.title('Magnitude of force for models core')\n",
    "plt.xlabel('Unit scales')\n",
    "plt.show()"
   ]
  },
  {
   "cell_type": "code",
   "execution_count": 221,
   "metadata": {},
   "outputs": [
    {
     "name": "stdout",
     "output_type": "stream",
     "text": [
      "14.567926691799244 53.90663082329455\n"
     ]
    },
    {
     "data": {
      "image/png": "[encoded data removed]",
      "text/plain": [
       "<Figure size 640x480 with 1 Axes>"
      ]
     },
     "metadata": {},
     "output_type": "display_data"
    }
   ],
   "source": [
    "i, j = 0, 97\n",
    "magnitude = -df['scales'][i:j]*2+55\n",
    "print(np.min(magnitude), np.max(magnitude))\n",
    "\n",
    "plt.plot(df['scales'][i:j], magnitude,'.', label='unit_scale')\n",
    "\n",
    "plt.title('Magnitude of force for models core')\n",
    "plt.xlabel('Unit scales')\n",
    "plt.show()"
   ]
  },
  {
   "cell_type": "code",
   "execution_count": 1,
   "metadata": {},
   "outputs": [
    {
     "ename": "NameError",
     "evalue": "name 'plt' is not defined",
     "output_type": "error",
     "traceback": [
      "\u001b[0;31m---------------------------------------------------------------------------\u001b[0m",
      "\u001b[0;31mNameError\u001b[0m                                 Traceback (most recent call last)",
      "Cell \u001b[0;32mIn[1], line 3\u001b[0m\n\u001b[1;32m      1\u001b[0m i, j \u001b[39m=\u001b[39m \u001b[39m0\u001b[39m, \u001b[39m97\u001b[39m\n\u001b[0;32m----> 3\u001b[0m plt\u001b[39m.\u001b[39mplot(\u001b[39mrange\u001b[39m(i, j) , df[\u001b[39m'\u001b[39m\u001b[39mscales\u001b[39m\u001b[39m'\u001b[39m][i:j], label\u001b[39m=\u001b[39m\u001b[39m'\u001b[39m\u001b[39mUnit scale\u001b[39m\u001b[39m'\u001b[39m)\n\u001b[1;32m      4\u001b[0m plt\u001b[39m.\u001b[39mplot(\u001b[39mrange\u001b[39m(i, j) , df[\u001b[39m'\u001b[39m\u001b[39mvolume\u001b[39m\u001b[39m'\u001b[39m][i:j], label\u001b[39m=\u001b[39m\u001b[39m'\u001b[39m\u001b[39mProduct xyz bounds extends\u001b[39m\u001b[39m'\u001b[39m)\n\u001b[1;32m      5\u001b[0m magnitude \u001b[39m=\u001b[39m (\u001b[39m-\u001b[39mdf[\u001b[39m'\u001b[39m\u001b[39mscales\u001b[39m\u001b[39m'\u001b[39m][i:j]\u001b[39m*\u001b[39m\u001b[39m2\u001b[39m\u001b[39m+\u001b[39m\u001b[39m55\u001b[39m)\u001b[39m/\u001b[39m\u001b[39m2\u001b[39m\u001b[39m+\u001b[39m(df[\u001b[39m'\u001b[39m\u001b[39mvolume\u001b[39m\u001b[39m'\u001b[39m][i:j]\u001b[39m*\u001b[39m\u001b[39m10\u001b[39m\u001b[39m+\u001b[39m\u001b[39m15\u001b[39m)\u001b[39m/\u001b[39m\u001b[39m2\u001b[39m \u001b[39m-\u001b[39m \u001b[39m5\u001b[39m\n",
      "\u001b[0;31mNameError\u001b[0m: name 'plt' is not defined"
     ]
    }
   ],
   "source": [
    "i, j = 0, 97\n",
    "\n",
    "plt.plot(range(i, j) , df['scales'][i:j], label='Unit scale')\n",
    "plt.plot(range(i, j) , df['volume'][i:j], label='Product xyz bounds extends')\n",
    "magnitude = (-df['scales'][i:j]*2+55)/2+(df['volume'][i:j]*10+15)/2 - 5\n",
    "# magnitude = ((-(np.array(df['scales'][i:j]))*a + np.array(df['volume'][i:j])*b)+ bias)*2\n",
    "print(f'Lowest magnitude is {np.min(magnitude)} and highest is {np.max(magnitude)}')\n",
    "plt.plot(range(i, j) ,magnitude, color='red', linestyle='-', label=f'Magnitude mean')\n",
    "\n",
    "magnitude = ((-df['scales'][i:j]*2+55)+(df['volume'][i:j]*10+15))/2 \n",
    "# magnitude = ((-(np.array(df['scales'][i:j]))*a + np.array(df['volume'][i:j])*b)+ bias)*2\n",
    "print(f'Lowest magnitude is {np.min(magnitude)} and highest is {np.max(magnitude)}')\n",
    "plt.plot(range(i, j) ,magnitude, color='gray', linestyle='dashed', label=f'Random magnitude min-max (for 5)')\n",
    "\n",
    "magnitude = ((-df['scales'][i:j]*2+55)+(df['volume'][i:j]*10+15))/2 -10\n",
    "# magnitude = ((-(np.array(df['scales'][i:j]))*a + np.array(df['volume'][i:j])*b)+ bias)*2\n",
    "print(f'Lowest magnitude is {np.min(magnitude)} and highest is {np.max(magnitude)}')\n",
    "plt.plot(range(i, j) ,magnitude, color='gray', linestyle='dashed')\n",
    "\n",
    "\n",
    "\n",
    "\n",
    "plt.title('Magnitude of force for selected models from models_core.json library')\n",
    "plt.legend()\n",
    "plt.xlabel('Objects')\n",
    "plt.savefig('magnitude.png')\n",
    "plt.show()"
   ]
  },
  {
   "cell_type": "code",
   "execution_count": 9,
   "metadata": {},
   "outputs": [],
   "source": [
    "lib = ModelLibrarian('models_core.json')\n",
    "records = {record.name:i for i, record in enumerate(lib.records)}\n",
    "record = lib.records[293]"
   ]
  },
  {
   "cell_type": "code",
   "execution_count": 11,
   "metadata": {},
   "outputs": [
    {
     "name": "stdout",
     "output_type": "stream",
     "text": [
      "{'back': {'x': -1.490116e-08, 'y': 0.04704352, 'z': -0.04254311}, 'bottom': {'x': -1.490116e-08, 'y': 0, 'z': -3.72529e-09}, 'center': {'x': -1.490116e-08, 'y': 0.04704352, 'z': -3.72529e-09}, 'front': {'x': -1.490116e-08, 'y': 0.04704352, 'z': 0.0425431}, 'left': {'x': -0.05559815, 'y': 0.04704352, 'z': -3.72529e-09}, 'right': {'x': 0.05559812, 'y': 0.04704352, 'z': -3.72529e-09}, 'top': {'x': -1.490116e-08, 'y': 0.09408703, 'z': -3.72529e-09}}\n"
     ]
    }
   ],
   "source": [
    "from tdw.tdw_utils import TDWUtils\n",
    "print(record.bounds)\n"
   ]
  },
  {
   "cell_type": "code",
   "execution_count": 49,
   "metadata": {},
   "outputs": [
    {
     "data": {
      "text/plain": [
       "({'x': -3.1357168585432498, 'y': 4, 'z': 4.0989153721882055},)"
      ]
     },
     "execution_count": 49,
     "metadata": {},
     "output_type": "execute_result"
    }
   ],
   "source": [
    "o_position = [3,4,5]\n",
    "{\"x\": random.uniform(o_position[0]-10, o_position[0]+10), \n",
    "                                                    \"y\": o_position[1], \n",
    "                                                    \"z\": random.uniform(o_position[2]-10, o_position[2]+10)},"
   ]
  },
  {
   "cell_type": "code",
   "execution_count": 22,
   "metadata": {},
   "outputs": [
    {
     "name": "stdout",
     "output_type": "stream",
     "text": [
      "0.11119627\n"
     ]
    }
   ],
   "source": [
    "width_x, height_y, width_z = TDWUtils.get_b{\"x\": random.uniform(-10, 10), \"y\": 0, \"z\": random.uniform(-10, 10)},ounds_extents(record.bounds)"
   ]
  },
  {
   "cell_type": "code",
   "execution_count": 14,
   "metadata": {},
   "outputs": [
    {
     "name": "stdout",
     "output_type": "stream",
     "text": [
      "0.0\n"
     ]
    }
   ],
   "source": [
    "# Calculate height and width of occluder #TODO check this formula\n",
    "height_occl = abs(record.bounds['top']['y'] - record.bounds['bottom']['y'])\n",
    "\n",
    "#NOTE TODO Somehow width is often 0\n",
    "width_occl = abs(record.bounds['left']['z'] - record.bounds['right']['z'])\n",
    "print(width_occl)"
   ]
  },
  {
   "cell_type": "code",
   "execution_count": 8,
   "metadata": {},
   "outputs": [
    {
     "name": "stdout",
     "output_type": "stream",
     "text": [
      "\"amphora_jar_vase\"\n",
      "\"apple\"\n",
      "\"b03_burger\"\n",
      "\"b04_banana\"\n",
      "\"b04_orange_00\"\n",
      "\"golf\"\n",
      "\"hexagonal_toy\"\n",
      "\"jug01\"\n",
      "\"moet_chandon_bottle_vray\"\n",
      "\"orange\"\n",
      "\"star_wood_block\"\n"
     ]
    }
   ],
   "source": [
    "OBJECTS = [\"fanta_orange_can_12_fl_oz_vray\",\n",
    "               \"hexagonal_toy\",\n",
    "               \"b03_sphere_chocolate\",\n",
    "               \"coca-cola_can_001\",\n",
    "               \"b05_baseballnew_v03_12\",\n",
    "               \"b06_green_new\",\n",
    "               \"star_wood_block\",\n",
    "               \"amphora_jar_vase\",\n",
    "               \"b03_burger\",\n",
    "               \"golf\",\n",
    "               \"dice\",\n",
    "               \"apple\",\n",
    "               \"wine_bottle\",\n",
    "               \"jug01\",\n",
    "               \"b03_723329_croissant\",\n",
    "               \"moet_chandon_bottle_vray\",\n",
    "               \"b04_banana\",\n",
    "               \"b04_orange_00\",\n",
    "               \"orange\",\n",
    "               \"vm_v2_015\",\n",
    "               \"b03_dice\",\n",
    "               \"bread_02\",\n",
    "               \"bread_01\"]\n",
    "for record in lib.records:\n",
    "    if record.name in OBJECTS:\n",
    "        print('\"'+record.name+ '\"')"
   ]
  },
  {
   "cell_type": "code",
   "execution_count": 13,
   "metadata": {},
   "outputs": [
    {
     "name": "stdout",
     "output_type": "stream",
     "text": [
      "dict_keys(['name', 'urls', 'wnid', 'wcategory', 'scale_factor', 'do_not_use', 'do_not_use_reason', 'flex', 'substructure', 'bounds', 'canonical_rotation', 'physics_quality', 'asset_bundle_sizes', 'composite_object', 'volume', 'container_shapes', 'affordance_points'])\n"
     ]
    },
    {
     "data": {
      "text/plain": [
       "{'back': {'x': 1.490116e-07, 'y': 0.4671669, 'z': -0.2698637},\n",
       " 'bottom': {'x': 1.490116e-07, 'y': -5.960464e-08, 'z': 0},\n",
       " 'center': {'x': 1.490116e-07, 'y': 0.4671669, 'z': 0},\n",
       " 'front': {'x': 1.490116e-07, 'y': 0.467167, 'z': 0.2698637},\n",
       " 'left': {'x': -0.2926708, 'y': 0.4671669, 'z': 0},\n",
       " 'right': {'x': 0.2926711, 'y': 0.4671669, 'z': 0},\n",
       " 'top': {'x': 1.490116e-07, 'y': 0.9343339, 'z': 0}}"
      ]
     },
     "execution_count": 13,
     "metadata": {},
     "output_type": "execute_result"
    },
    {
     "ename": "",
     "evalue": "",
     "output_type": "error",
     "traceback": [
      "\u001b[1;31mThe Kernel crashed while executing code in the the current cell or a previous cell. Please review the code in the cell(s) to identify a possible cause of the failure. Click <a href='https://aka.ms/vscodeJupyterKernelCrash'>here</a> for more info. View Jupyter <a href='command:jupyter.viewOutput'>log</a> for further details."
     ]
    }
   ],
   "source": [
    "print(lib.records[120].__dict__.keys())\n",
    "lib.records[120].__dict__['bounds']"
   ]
  },
  {
   "attachments": {},
   "cell_type": "markdown",
   "metadata": {},
   "source": []
  },
  {
   "cell_type": "code",
   "execution_count": 24,
   "metadata": {},
   "outputs": [
    {
     "data": {
      "text/plain": [
       "(5, 18)"
      ]
     },
     "execution_count": 24,
     "metadata": {},
     "output_type": "execute_result"
    }
   ],
   "source": [
    "import pandas as pd\n",
    "df = pd.read_csv('/Users/meesmeester/Documents/Github/tdw_trials/data/temp/info.csv')\n",
    "df.shape"
   ]
  },
  {
   "cell_type": "code",
   "execution_count": 12,
   "metadata": {},
   "outputs": [],
   "source": [
    "import numpy as np\n",
    "x = np.array([[1,2,3],[3,4,5],[6,7,8]])"
   ]
  },
  {
   "cell_type": "code",
   "execution_count": 20,
   "metadata": {},
   "outputs": [
    {
     "name": "stdout",
     "output_type": "stream",
     "text": [
      "[[1 2 3]\n",
      " [3 4 5]\n",
      " [6 7 8]]\n",
      "[1 2 3 4 5 6 7 8]\n"
     ]
    },
    {
     "data": {
      "text/plain": [
       "{1, 2, 3, 4, 5, 6, 7, 8}"
      ]
     },
     "execution_count": 20,
     "metadata": {},
     "output_type": "execute_result"
    }
   ],
   "source": [
    "print(x)\n",
    "print(np.unique(x))\n",
    "set({1,2,3}) | set(np.unique(x))"
   ]
  },
  {
   "cell_type": "code",
   "execution_count": null,
   "metadata": {},
   "outputs": [
    {
     "ename": "ModuleNotFoundError",
     "evalue": "No module named 'skimage'",
     "output_type": "error",
     "traceback": [
      "\u001b[0;31m---------------------------------------------------------------------------\u001b[0m",
      "\u001b[0;31mModuleNotFoundError\u001b[0m                       Traceback (most recent call last)",
      "Cell \u001b[0;32mIn[4], line 4\u001b[0m\n\u001b[1;32m      2\u001b[0m \u001b[39mfrom\u001b[39;00m \u001b[39mPIL\u001b[39;00m \u001b[39mimport\u001b[39;00m Image\n\u001b[1;32m      3\u001b[0m \u001b[39mimport\u001b[39;00m \u001b[39mos\u001b[39;00m\n\u001b[0;32m----> 4\u001b[0m \u001b[39mfrom\u001b[39;00m \u001b[39mskimage\u001b[39;00m \u001b[39mimport\u001b[39;00m color, measure\n\u001b[1;32m      6\u001b[0m \u001b[39m# file_names = os.listdir(self.path_frames)\u001b[39;00m\n\u001b[1;32m      7\u001b[0m \u001b[39m# file_names.sort()\u001b[39;00m\n\u001b[1;32m      8\u001b[0m \u001b[39m# fn = self.path_frames+'/'+[fn for fn in file_names if fn[:5] == 'mask_'][0]\u001b[39;00m\n\u001b[1;32m     10\u001b[0m fn \u001b[39m=\u001b[39m \u001b[39m'\u001b[39m\u001b[39mid_0002.png\u001b[39m\u001b[39m'\u001b[39m\n",
      "\u001b[0;31mModuleNotFoundError\u001b[0m: No module named 'skimage'"
     ]
    }
   ],
   "source": [
    "# For checking trial\n",
    "from PIL import Image\n",
    "import os\n",
    "from skimage import color, measure\n",
    "\n",
    "# file_names = os.listdir(self.path_frames)\n",
    "# file_names.sort()\n",
    "# fn = self.path_frames+'/'+[fn for fn in file_names if fn[:5] == 'mask_'][0]\n",
    "\n",
    "fn = 'id_0002.png'\n",
    "# NOTE: rgb2gray might also be wrong\n",
    "img = np.asarray(color.rgb2gray(Image.open(fn)))\n",
    "\n",
    "# Occluder is occluding one of the sides of the view, or one of the moving objects is already seeable\n",
    "if img[:,0].any() or img[:,-1].any():\n",
    "    resp = self.communicate([])\n",
    "    # Sometimes we get TypeError: 'NoneType' object is not iterable, when trying to get the transforms\n",
    "    print(f'Occluder might be covering too much...', 'error')\n",
    "    trial_success = False"
   ]
  }
 ],
 "metadata": {
  "kernelspec": {
   "display_name": "TDW_tutorial",
   "language": "python",
   "name": "python3"
  },
  "language_info": {
   "codemirror_mode": {
    "name": "ipython",
    "version": 3
   },
   "file_extension": ".py",
   "mimetype": "text/x-python",
   "name": "python",
   "nbconvert_exporter": "python",
   "pygments_lexer": "ipython3",
   "version": "3.11.3"
  },
  "orig_nbformat": 4
 },
 "nbformat": 4,
 "nbformat_minor": 2
}
